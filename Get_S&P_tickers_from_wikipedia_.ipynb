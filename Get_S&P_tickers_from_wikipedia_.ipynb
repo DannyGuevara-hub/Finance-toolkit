{
  "nbformat": 4,
  "nbformat_minor": 0,
  "metadata": {
    "colab": {
      "name": "Get S&P tickers from wikipedia .ipynb",
      "provenance": []
    },
    "kernelspec": {
      "name": "python3",
      "display_name": "Python 3"
    }
  },
  "cells": [
    {
      "cell_type": "code",
      "metadata": {
        "id": "oJsQQt0c6omy",
        "colab_type": "code",
        "colab": {}
      },
      "source": [
        "import pandas as pd\n",
        "from bs4 import BeautifulSoup\n",
        "import urllib.request\n",
        "def get_spy_tickers():\n",
        "  \"\"\"This function gets all the S&P 500 tickers from a wikipedia \n",
        "  article by using beautiful soup\n",
        "  \"\"\"\n",
        "  url = 'https://en.wikipedia.org/wiki/List_of_S%26P_500_companies'\n",
        "  req = urllib.request.urlopen(url)\n",
        "  article = req.read().decode()\n",
        "\n",
        "  with open('List_of_S%26P_500_companies.html', 'w') as fo:\n",
        "      fo.write(article)\n",
        "\n",
        "  # Load article, turn into soup and get the <table>s.\n",
        "  article = open('List_of_S%26P_500_companies.html').read()\n",
        "  soup = BeautifulSoup(article, 'html.parser')\n",
        "  tables = soup.find_all('table', class_='sortable')\n",
        "\n",
        "  # Search through the tables for the one with the headings we want.\n",
        "  for table in tables:\n",
        "      ths = table.find_all('th')\n",
        "      headings = [th.text.strip() for th in ths]\n",
        "      if headings[:2] == ['Symbol', 'Security']:\n",
        "          break\n",
        "\n",
        "  # Extract the columns we want and write to a semicolon-delimited text file.\n",
        "  with open('List_of_S%26P_500_companies.txt', 'w') as fo:\n",
        "      for tr in table.find_all('tr'):\n",
        "          tds = tr.find_all('td')\n",
        "          if not tds:\n",
        "              continue\n",
        "          code, country = [td.text.strip() for td in tds[:2]]\n",
        "          # Wikipedia does something funny with country names containing\n",
        "          # accented characters: extract the correct string form.\n",
        "          if '!' in country:\n",
        "              country = country[country.index('!')+1:]\n",
        "          print('; '.join([code, country]), file=fo)\n",
        "  df = pd.read_csv('List_of_S%26P_500_companies.txt', sep=';', header=None,names=['Ticker','Security'])\n",
        "  return df"
      ],
      "execution_count": 0,
      "outputs": []
    },
    {
      "cell_type": "code",
      "metadata": {
        "id": "ifco0UgB6p59",
        "colab_type": "code",
        "colab": {
          "base_uri": "https://localhost:8080/",
          "height": 415
        },
        "outputId": "6bf60ba8-4651-4bcc-b105-d6d00938c591"
      },
      "source": [
        "get_spy_tickers()"
      ],
      "execution_count": 8,
      "outputs": [
        {
          "output_type": "execute_result",
          "data": {
            "text/html": [
              "<div>\n",
              "<style scoped>\n",
              "    .dataframe tbody tr th:only-of-type {\n",
              "        vertical-align: middle;\n",
              "    }\n",
              "\n",
              "    .dataframe tbody tr th {\n",
              "        vertical-align: top;\n",
              "    }\n",
              "\n",
              "    .dataframe thead th {\n",
              "        text-align: right;\n",
              "    }\n",
              "</style>\n",
              "<table border=\"1\" class=\"dataframe\">\n",
              "  <thead>\n",
              "    <tr style=\"text-align: right;\">\n",
              "      <th></th>\n",
              "      <th>Ticker</th>\n",
              "      <th>Security</th>\n",
              "    </tr>\n",
              "  </thead>\n",
              "  <tbody>\n",
              "    <tr>\n",
              "      <th>0</th>\n",
              "      <td>MMM</td>\n",
              "      <td>3M Company</td>\n",
              "    </tr>\n",
              "    <tr>\n",
              "      <th>1</th>\n",
              "      <td>ABT</td>\n",
              "      <td>Abbott Laboratories</td>\n",
              "    </tr>\n",
              "    <tr>\n",
              "      <th>2</th>\n",
              "      <td>ABBV</td>\n",
              "      <td>AbbVie Inc.</td>\n",
              "    </tr>\n",
              "    <tr>\n",
              "      <th>3</th>\n",
              "      <td>ABMD</td>\n",
              "      <td>ABIOMED Inc</td>\n",
              "    </tr>\n",
              "    <tr>\n",
              "      <th>4</th>\n",
              "      <td>ACN</td>\n",
              "      <td>Accenture plc</td>\n",
              "    </tr>\n",
              "    <tr>\n",
              "      <th>...</th>\n",
              "      <td>...</td>\n",
              "      <td>...</td>\n",
              "    </tr>\n",
              "    <tr>\n",
              "      <th>500</th>\n",
              "      <td>YUM</td>\n",
              "      <td>Brands Inc</td>\n",
              "    </tr>\n",
              "    <tr>\n",
              "      <th>501</th>\n",
              "      <td>ZBRA</td>\n",
              "      <td>Zebra Technologies</td>\n",
              "    </tr>\n",
              "    <tr>\n",
              "      <th>502</th>\n",
              "      <td>ZBH</td>\n",
              "      <td>Zimmer Biomet Holdings</td>\n",
              "    </tr>\n",
              "    <tr>\n",
              "      <th>503</th>\n",
              "      <td>ZION</td>\n",
              "      <td>Zions Bancorp</td>\n",
              "    </tr>\n",
              "    <tr>\n",
              "      <th>504</th>\n",
              "      <td>ZTS</td>\n",
              "      <td>Zoetis</td>\n",
              "    </tr>\n",
              "  </tbody>\n",
              "</table>\n",
              "<p>505 rows × 2 columns</p>\n",
              "</div>"
            ],
            "text/plain": [
              "    Ticker                 Security\n",
              "0      MMM               3M Company\n",
              "1      ABT      Abbott Laboratories\n",
              "2     ABBV              AbbVie Inc.\n",
              "3     ABMD              ABIOMED Inc\n",
              "4      ACN            Accenture plc\n",
              "..     ...                      ...\n",
              "500    YUM               Brands Inc\n",
              "501   ZBRA       Zebra Technologies\n",
              "502    ZBH   Zimmer Biomet Holdings\n",
              "503   ZION            Zions Bancorp\n",
              "504    ZTS                   Zoetis\n",
              "\n",
              "[505 rows x 2 columns]"
            ]
          },
          "metadata": {
            "tags": []
          },
          "execution_count": 8
        }
      ]
    },
    {
      "cell_type": "code",
      "metadata": {
        "id": "GwAJac_G8v_u",
        "colab_type": "code",
        "colab": {}
      },
      "source": [
        ""
      ],
      "execution_count": 0,
      "outputs": []
    }
  ]
}